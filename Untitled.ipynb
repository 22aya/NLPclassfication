{
 "cells": [
  {
   "cell_type": "code",
   "execution_count": 76,
   "id": "c5c4210e",
   "metadata": {},
   "outputs": [],
   "source": [
    "import numpy as np\n",
    "import pandas as pd\n",
    "import seaborn as sns\n",
    "import re\n",
    "import nltk\n",
    "from nltk.corpus import stopwords\n",
    "from nltk.tokenize import word_tokenize , sent_tokenize "
   ]
  },
  {
   "cell_type": "code",
   "execution_count": 17,
   "id": "157ff5fd",
   "metadata": {},
   "outputs": [
    {
     "data": {
      "text/html": [
       "<div>\n",
       "<style scoped>\n",
       "    .dataframe tbody tr th:only-of-type {\n",
       "        vertical-align: middle;\n",
       "    }\n",
       "\n",
       "    .dataframe tbody tr th {\n",
       "        vertical-align: top;\n",
       "    }\n",
       "\n",
       "    .dataframe thead th {\n",
       "        text-align: right;\n",
       "    }\n",
       "</style>\n",
       "<table border=\"1\" class=\"dataframe\">\n",
       "  <thead>\n",
       "    <tr style=\"text-align: right;\">\n",
       "      <th></th>\n",
       "      <th>ArticleId</th>\n",
       "      <th>Text</th>\n",
       "      <th>Category</th>\n",
       "    </tr>\n",
       "  </thead>\n",
       "  <tbody>\n",
       "    <tr>\n",
       "      <th>0</th>\n",
       "      <td>1833</td>\n",
       "      <td>worldcom ex-boss launches defence lawyers defe...</td>\n",
       "      <td>business</td>\n",
       "    </tr>\n",
       "    <tr>\n",
       "      <th>1</th>\n",
       "      <td>154</td>\n",
       "      <td>german business confidence slides german busin...</td>\n",
       "      <td>business</td>\n",
       "    </tr>\n",
       "    <tr>\n",
       "      <th>2</th>\n",
       "      <td>1101</td>\n",
       "      <td>bbc poll indicates economic gloom citizens in ...</td>\n",
       "      <td>business</td>\n",
       "    </tr>\n",
       "    <tr>\n",
       "      <th>3</th>\n",
       "      <td>1976</td>\n",
       "      <td>lifestyle  governs mobile choice  faster  bett...</td>\n",
       "      <td>tech</td>\n",
       "    </tr>\n",
       "    <tr>\n",
       "      <th>4</th>\n",
       "      <td>917</td>\n",
       "      <td>enron bosses in $168m payout eighteen former e...</td>\n",
       "      <td>business</td>\n",
       "    </tr>\n",
       "  </tbody>\n",
       "</table>\n",
       "</div>"
      ],
      "text/plain": [
       "   ArticleId                                               Text  Category\n",
       "0       1833  worldcom ex-boss launches defence lawyers defe...  business\n",
       "1        154  german business confidence slides german busin...  business\n",
       "2       1101  bbc poll indicates economic gloom citizens in ...  business\n",
       "3       1976  lifestyle  governs mobile choice  faster  bett...      tech\n",
       "4        917  enron bosses in $168m payout eighteen former e...  business"
      ]
     },
     "execution_count": 17,
     "metadata": {},
     "output_type": "execute_result"
    }
   ],
   "source": [
    "data = pd.read_csv('BBC News.tsv')\n",
    "data.head()"
   ]
  },
  {
   "cell_type": "code",
   "execution_count": 18,
   "id": "6923d2a8",
   "metadata": {},
   "outputs": [
    {
     "name": "stdout",
     "output_type": "stream",
     "text": [
      "<class 'pandas.core.frame.DataFrame'>\n",
      "RangeIndex: 1491 entries, 0 to 1490\n",
      "Data columns (total 3 columns):\n",
      " #   Column     Non-Null Count  Dtype \n",
      "---  ------     --------------  ----- \n",
      " 0   ArticleId  1491 non-null   int64 \n",
      " 1   Text       1490 non-null   object\n",
      " 2   Category   1490 non-null   object\n",
      "dtypes: int64(1), object(2)\n",
      "memory usage: 35.1+ KB\n"
     ]
    }
   ],
   "source": [
    "data.info()"
   ]
  },
  {
   "cell_type": "code",
   "execution_count": 19,
   "id": "b4df84f5",
   "metadata": {},
   "outputs": [
    {
     "data": {
      "text/plain": [
       "sport            346\n",
       "business         336\n",
       "politics         274\n",
       "entertainment    273\n",
       "tech             261\n",
       "Name: Category, dtype: int64"
      ]
     },
     "execution_count": 19,
     "metadata": {},
     "output_type": "execute_result"
    }
   ],
   "source": [
    "data['Category'].value_counts()"
   ]
  },
  {
   "cell_type": "code",
   "execution_count": 20,
   "id": "30f54540",
   "metadata": {},
   "outputs": [
    {
     "data": {
      "text/plain": [
       "<Axes: xlabel='Category', ylabel='count'>"
      ]
     },
     "execution_count": 20,
     "metadata": {},
     "output_type": "execute_result"
    },
    {
     "data": {
      "image/png": "[encoded data removed]",
      "text/plain": [
       "<Figure size 640x480 with 1 Axes>"
      ]
     },
     "metadata": {},
     "output_type": "display_data"
    }
   ],
   "source": [
    "sns.countplot(x=data['Category'])"
   ]
  },
  {
   "cell_type": "markdown",
   "id": "f506d0e9",
   "metadata": {},
   "source": [
    "# checking for null values"
   ]
  },
  {
   "cell_type": "code",
   "execution_count": 21,
   "id": "a46720b0",
   "metadata": {},
   "outputs": [
    {
     "data": {
      "text/plain": [
       "ArticleId    False\n",
       "Text          True\n",
       "Category      True\n",
       "dtype: bool"
      ]
     },
     "execution_count": 21,
     "metadata": {},
     "output_type": "execute_result"
    }
   ],
   "source": [
    "data.isnull().any()"
   ]
  },
  {
   "cell_type": "code",
   "execution_count": 22,
   "id": "ad68b6db",
   "metadata": {},
   "outputs": [
    {
     "data": {
      "text/plain": [
       "ArticleId    0\n",
       "Text         1\n",
       "Category     1\n",
       "dtype: int64"
      ]
     },
     "execution_count": 22,
     "metadata": {},
     "output_type": "execute_result"
    }
   ],
   "source": [
    "data.isnull().sum()"
   ]
  },
  {
   "cell_type": "code",
   "execution_count": 23,
   "id": "243c1c41",
   "metadata": {},
   "outputs": [],
   "source": [
    "data.dropna(inplace=True)"
   ]
  },
  {
   "cell_type": "code",
   "execution_count": 24,
   "id": "0c7b7c03",
   "metadata": {},
   "outputs": [
    {
     "data": {
      "text/plain": [
       "ArticleId    False\n",
       "Text         False\n",
       "Category     False\n",
       "dtype: bool"
      ]
     },
     "execution_count": 24,
     "metadata": {},
     "output_type": "execute_result"
    }
   ],
   "source": [
    "data.isnull().any()"
   ]
  },
  {
   "cell_type": "markdown",
   "id": "b0709f76",
   "metadata": {},
   "source": [
    "# pre-processing data"
   ]
  },
  {
   "cell_type": "code",
   "execution_count": 48,
   "id": "fe474888",
   "metadata": {},
   "outputs": [
    {
     "name": "stderr",
     "output_type": "stream",
     "text": [
      "[nltk_data] Downloading package stopwords to\n",
      "[nltk_data]     C:\\Users\\Nasser\\AppData\\Roaming\\nltk_data...\n",
      "[nltk_data]   Package stopwords is already up-to-date!\n"
     ]
    },
    {
     "data": {
      "text/plain": [
       "True"
      ]
     },
     "execution_count": 48,
     "metadata": {},
     "output_type": "execute_result"
    }
   ],
   "source": [
    "nltk.download('stopwords')"
   ]
  },
  {
   "cell_type": "code",
   "execution_count": 69,
   "id": "52746301",
   "metadata": {},
   "outputs": [
    {
     "name": "stderr",
     "output_type": "stream",
     "text": [
      "[nltk_data] Downloading package punkt to\n",
      "[nltk_data]     C:\\Users\\Nasser\\AppData\\Roaming\\nltk_data...\n",
      "[nltk_data]   Unzipping tokenizers\\punkt.zip.\n"
     ]
    }
   ],
   "source": [
    "nltk.download('punkt')\n",
    "word_tokens=[]\n",
    "for article in data['Text']:\n",
    "    word_tokens.append(word_tokenize(article.lower()))"
   ]
  },
  {
   "cell_type": "code",
   "execution_count": 70,
   "id": "4eebc94d",
   "metadata": {},
   "outputs": [
    {
     "name": "stdout",
     "output_type": "stream",
     "text": [
      "['worldcom', 'ex-boss', 'launches', 'defence', 'lawyers', 'defending', 'former', 'worldcom', 'chief', 'bernie', 'ebbers', 'against', 'a', 'battery', 'of', 'fraud', 'charges', 'have', 'called', 'a', 'company', 'whistleblower', 'as', 'their', 'first', 'witness', '.', 'cynthia', 'cooper', 'worldcom', 's', 'ex-head', 'of', 'internal', 'accounting', 'alerted', 'directors', 'to', 'irregular', 'accounting', 'practices', 'at', 'the', 'us', 'telecoms', 'giant', 'in', '2002.', 'her', 'warnings', 'led', 'to', 'the', 'collapse', 'of', 'the', 'firm', 'following', 'the', 'discovery', 'of', 'an', '$', '11bn', '(', '£5.7bn', ')', 'accounting', 'fraud', '.', 'mr', 'ebbers', 'has', 'pleaded', 'not', 'guilty', 'to', 'charges', 'of', 'fraud', 'and', 'conspiracy', '.', 'prosecution', 'lawyers', 'have', 'argued', 'that', 'mr', 'ebbers', 'orchestrated', 'a', 'series', 'of', 'accounting', 'tricks', 'at', 'worldcom', 'ordering', 'employees', 'to', 'hide', 'expenses', 'and', 'inflate', 'revenues', 'to', 'meet', 'wall', 'street', 'earnings', 'estimates', '.', 'but', 'ms', 'cooper', 'who', 'now', 'runs', 'her', 'own', 'consulting', 'business', 'told', 'a', 'jury', 'in', 'new', 'york', 'on', 'wednesday', 'that', 'external', 'auditors', 'arthur', 'andersen', 'had', 'approved', 'worldcom', 's', 'accounting', 'in', 'early', '2001', 'and', '2002.', 'she', 'said', 'andersen', 'had', 'given', 'a', 'green', 'light', 'to', 'the', 'procedures', 'and', 'practices', 'used', 'by', 'worldcom', '.', 'mr', 'ebber', 's', 'lawyers', 'have', 'said', 'he', 'was', 'unaware', 'of', 'the', 'fraud', 'arguing', 'that', 'auditors', 'did', 'not', 'alert', 'him', 'to', 'any', 'problems', '.', 'ms', 'cooper', 'also', 'said', 'that', 'during', 'shareholder', 'meetings', 'mr', 'ebbers', 'often', 'passed', 'over', 'technical', 'questions', 'to', 'the', 'company', 's', 'finance', 'chief', 'giving', 'only', 'brief', 'answers', 'himself', '.', 'the', 'prosecution', 's', 'star', 'witness', 'former', 'worldcom', 'financial', 'chief', 'scott', 'sullivan', 'has', 'said', 'that', 'mr', 'ebbers', 'ordered', 'accounting', 'adjustments', 'at', 'the', 'firm', 'telling', 'him', 'to', 'hit', 'our', 'books', '.', 'however', 'ms', 'cooper', 'said', 'mr', 'sullivan', 'had', 'not', 'mentioned', 'anything', 'uncomfortable', 'about', 'worldcom', 's', 'accounting', 'during', 'a', '2001', 'audit', 'committee', 'meeting', '.', 'mr', 'ebbers', 'could', 'face', 'a', 'jail', 'sentence', 'of', '85', 'years', 'if', 'convicted', 'of', 'all', 'the', 'charges', 'he', 'is', 'facing', '.', 'worldcom', 'emerged', 'from', 'bankruptcy', 'protection', 'in', '2004', 'and', 'is', 'now', 'known', 'as', 'mci', '.', 'last', 'week', 'mci', 'agreed', 'to', 'a', 'buyout', 'by', 'verizon', 'communications', 'in', 'a', 'deal', 'valued', 'at', '$', '6.75bn', '.']\n",
      "['german', 'business', 'confidence', 'slides', 'german', 'business', 'confidence', 'fell', 'in', 'february', 'knocking', 'hopes', 'of', 'a', 'speedy', 'recovery', 'in', 'europe', 's', 'largest', 'economy', '.', 'munich-based', 'research', 'institute', 'ifo', 'said', 'that', 'its', 'confidence', 'index', 'fell', 'to', '95.5', 'in', 'february', 'from', '97.5', 'in', 'january', 'its', 'first', 'decline', 'in', 'three', 'months', '.', 'the', 'study', 'found', 'that', 'the', 'outlook', 'in', 'both', 'the', 'manufacturing', 'and', 'retail', 'sectors', 'had', 'worsened', '.', 'observers', 'had', 'been', 'hoping', 'that', 'a', 'more', 'confident', 'business', 'sector', 'would', 'signal', 'that', 'economic', 'activity', 'was', 'picking', 'up', '.', 'we', 're', 'surprised', 'that', 'the', 'ifo', 'index', 'has', 'taken', 'such', 'a', 'knock', 'said', 'dz', 'bank', 'economist', 'bernd', 'weidensteiner', '.', 'the', 'main', 'reason', 'is', 'probably', 'that', 'the', 'domestic', 'economy', 'is', 'still', 'weak', 'particularly', 'in', 'the', 'retail', 'trade', '.', 'economy', 'and', 'labour', 'minister', 'wolfgang', 'clement', 'called', 'the', 'dip', 'in', 'february', 's', 'ifo', 'confidence', 'figure', 'a', 'very', 'mild', 'decline', '.', 'he', 'said', 'that', 'despite', 'the', 'retreat', 'the', 'index', 'remained', 'at', 'a', 'relatively', 'high', 'level', 'and', 'that', 'he', 'expected', 'a', 'modest', 'economic', 'upswing', 'to', 'continue', '.', 'germany', 's', 'economy', 'grew', '1.6', '%', 'last', 'year', 'after', 'shrinking', 'in', '2003.', 'however', 'the', 'economy', 'contracted', 'by', '0.2', '%', 'during', 'the', 'last', 'three', 'months', 'of', '2004', 'mainly', 'due', 'to', 'the', 'reluctance', 'of', 'consumers', 'to', 'spend', '.', 'latest', 'indications', 'are', 'that', 'growth', 'is', 'still', 'proving', 'elusive', 'and', 'ifo', 'president', 'hans-werner', 'sinn', 'said', 'any', 'improvement', 'in', 'german', 'domestic', 'demand', 'was', 'sluggish', '.', 'exports', 'had', 'kept', 'things', 'going', 'during', 'the', 'first', 'half', 'of', '2004', 'but', 'demand', 'for', 'exports', 'was', 'then', 'hit', 'as', 'the', 'value', 'of', 'the', 'euro', 'hit', 'record', 'levels', 'making', 'german', 'products', 'less', 'competitive', 'overseas', '.', 'on', 'top', 'of', 'that', 'the', 'unemployment', 'rate', 'has', 'been', 'stuck', 'at', 'close', 'to', '10', '%', 'and', 'manufacturing', 'firms', 'including', 'daimlerchrysler', 'siemens', 'and', 'volkswagen', 'have', 'been', 'negotiating', 'with', 'unions', 'over', 'cost', 'cutting', 'measures', '.', 'analysts', 'said', 'that', 'the', 'ifo', 'figures', 'and', 'germany', 's', 'continuing', 'problems', 'may', 'delay', 'an', 'interest', 'rate', 'rise', 'by', 'the', 'european', 'central', 'bank', '.', 'eurozone', 'interest', 'rates', 'are', 'at', '2', '%', 'but', 'comments', 'from', 'senior', 'officials', 'have', 'recently', 'focused', 'on', 'the', 'threat', 'of', 'inflation', 'prompting', 'fears', 'that', 'interest', 'rates', 'may', 'rise', '.']\n",
      "['bbc', 'poll', 'indicates', 'economic', 'gloom', 'citizens', 'in', 'a', 'majority', 'of', 'nations', 'surveyed', 'in', 'a', 'bbc', 'world', 'service', 'poll', 'believe', 'the', 'world', 'economy', 'is', 'worsening', '.', 'most', 'respondents', 'also', 'said', 'their', 'national', 'economy', 'was', 'getting', 'worse', '.', 'but', 'when', 'asked', 'about', 'their', 'own', 'family', 's', 'financial', 'outlook', 'a', 'majority', 'in', '14', 'countries', 'said', 'they', 'were', 'positive', 'about', 'the', 'future', '.', 'almost', '23', '000', 'people', 'in', '22', 'countries', 'were', 'questioned', 'for', 'the', 'poll', 'which', 'was', 'mostly', 'conducted', 'before', 'the', 'asian', 'tsunami', 'disaster', '.', 'the', 'poll', 'found', 'that', 'a', 'majority', 'or', 'plurality', 'of', 'people', 'in', '13', 'countries', 'believed', 'the', 'economy', 'was', 'going', 'downhill', 'compared', 'with', 'respondents', 'in', 'nine', 'countries', 'who', 'believed', 'it', 'was', 'improving', '.', 'those', 'surveyed', 'in', 'three', 'countries', 'were', 'split', '.', 'in', 'percentage', 'terms', 'an', 'average', 'of', '44', '%', 'of', 'respondents', 'in', 'each', 'country', 'said', 'the', 'world', 'economy', 'was', 'getting', 'worse', 'compared', 'to', '34', '%', 'who', 'said', 'it', 'was', 'improving', '.', 'similarly', '48', '%', 'were', 'pessimistic', 'about', 'their', 'national', 'economy', 'while', '41', '%', 'were', 'optimistic', '.', 'and', '47', '%', 'saw', 'their', 'family', 's', 'economic', 'conditions', 'improving', 'as', 'against', '36', '%', 'who', 'said', 'they', 'were', 'getting', 'worse', '.', 'the', 'poll', 'of', '22', '953', 'people', 'was', 'conducted', 'by', 'the', 'international', 'polling', 'firm', 'globescan', 'together', 'with', 'the', 'program', 'on', 'international', 'policy', 'attitudes', '(', 'pipa', ')', 'at', 'the', 'university', 'of', 'maryland', '.', 'while', 'the', 'world', 'economy', 'has', 'picked', 'up', 'from', 'difficult', 'times', 'just', 'a', 'few', 'years', 'ago', 'people', 'seem', 'to', 'not', 'have', 'fully', 'absorbed', 'this', 'development', 'though', 'they', 'are', 'personally', 'experiencing', 'its', 'effects', 'said', 'pipa', 'director', 'steven', 'kull', '.', 'people', 'around', 'the', 'world', 'are', 'saying', ':', 'i', 'm', 'ok', 'but', 'the', 'world', 'isn', 't', '.', 'there', 'may', 'be', 'a', 'perception', 'that', 'war', 'terrorism', 'and', 'religious', 'and', 'political', 'divisions', 'are', 'making', 'the', 'world', 'a', 'worse', 'place', 'even', 'though', 'that', 'has', 'not', 'so', 'far', 'been', 'reflected', 'in', 'global', 'economic', 'performance', 'says', 'the', 'bbc', 's', 'elizabeth', 'blunt', '.', 'the', 'countries', 'where', 'people', 'were', 'most', 'optimistic', 'both', 'for', 'the', 'world', 'and', 'for', 'their', 'own', 'families', 'were', 'two', 'fast-growing', 'developing', 'economies', 'china', 'and', 'india', 'followed', 'by', 'indonesia', '.', 'china', 'has', 'seen', 'two', 'decades', 'of', 'blistering', 'economic', 'growth', 'which', 'has', 'led', 'to', 'wealth', 'creation', 'on', 'a', 'huge', 'scale', 'says', 'the', 'bbc', 's', 'louisa', 'lim', 'in', 'beijing', '.', 'but', 'the', 'results', 'also', 'may', 'reflect', 'the', 'untrammelled', 'confidence', 'of', 'people', 'who', 'are', 'subject', 'to', 'endless', 'government', 'propaganda', 'about', 'their', 'country', 's', 'rosy', 'economic', 'future', 'our', 'correspondent', 'says', '.', 'south', 'korea', 'was', 'the', 'most', 'pessimistic', 'while', 'respondents', 'in', 'italy', 'and', 'mexico', 'were', 'also', 'quite', 'gloomy', '.', 'the', 'bbc', 's', 'david', 'willey', 'in', 'rome', 'says', 'one', 'reason', 'for', 'that', 'result', 'is', 'the', 'changeover', 'from', 'the', 'lira', 'to', 'the', 'euro', 'in', '2001', 'which', 'is', 'widely', 'viewed', 'as', 'the', 'biggest', 'reason', 'why', 'their', 'wages', 'and', 'salaries', 'are', 'worth', 'less', 'than', 'they', 'used', 'to', 'be', '.', 'the', 'philippines', 'was', 'among', 'the', 'most', 'upbeat', 'countries', 'on', 'prospects', 'for', 'respondents', 'families', 'but', 'one', 'of', 'the', 'most', 'pessimistic', 'about', 'the', 'world', 'economy', '.', 'pipa', 'conducted', 'the', 'poll', 'from', '15', 'november', '2004', 'to', '3', 'january', '2005', 'across', '22', 'countries', 'in', 'face-to-face', 'or', 'telephone', 'interviews', '.', 'the', 'interviews', 'took', 'place', 'between', '15', 'november', '2004', 'and', '5', 'january', '2005.', 'the', 'margin', 'of', 'error', 'is', 'between', '2.5', 'and', '4', 'points', 'depending', 'on', 'the', 'country', '.', 'in', 'eight', 'of', 'the', 'countries', 'the', 'sample', 'was', 'limited', 'to', 'major', 'metropolitan', 'areas', '.']\n",
      "['lifestyle', 'governs', 'mobile', 'choice', 'faster', 'better', 'or', 'funkier', 'hardware', 'alone', 'is', 'not', 'going', 'to', 'help', 'phone', 'firms', 'sell', 'more', 'handsets', 'research', 'suggests', '.', 'instead', 'phone', 'firms', 'keen', 'to', 'get', 'more', 'out', 'of', 'their', 'customers', 'should', 'not', 'just', 'be', 'pushing', 'the', 'technology', 'for', 'its', 'own', 'sake', '.', 'consumers', 'are', 'far', 'more', 'interested', 'in', 'how', 'handsets', 'fit', 'in', 'with', 'their', 'lifestyle', 'than', 'they', 'are', 'in', 'screen', 'size', 'onboard', 'memory', 'or', 'the', 'chip', 'inside', 'shows', 'an', 'in-depth', 'study', 'by', 'handset', 'maker', 'ericsson', '.', 'historically', 'in', 'the', 'industry', 'there', 'has', 'been', 'too', 'much', 'focus', 'on', 'using', 'technology', 'said', 'dr', 'michael', 'bjorn', 'senior', 'advisor', 'on', 'mobile', 'media', 'at', 'ericsson', 's', 'consumer', 'and', 'enterprise', 'lab', '.', 'we', 'have', 'to', 'stop', 'saying', 'that', 'these', 'technologies', 'will', 'change', 'their', 'lives', 'he', 'said', '.', 'we', 'should', 'try', 'to', 'speak', 'to', 'consumers', 'in', 'their', 'own', 'language', 'and', 'help', 'them', 'see', 'how', 'it', 'fits', 'in', 'with', 'what', 'they', 'are', 'doing', 'he', 'told', 'the', 'bbc', 'news', 'website', '.', 'for', 'the', 'study', 'ericsson', 'interviewed', '14', '000', 'mobile', 'phone', 'owners', 'on', 'the', 'ways', 'they', 'use', 'their', 'phone', '.', 'people', 's', 'habits', 'remain', 'the', 'same', 'said', 'dr', 'bjorn', '.', 'they', 'just', 'move', 'the', 'activity', 'into', 'the', 'mobile', 'phone', 'as', 'it', 's', 'a', 'much', 'more', 'convenient', 'way', 'to', 'do', 'it', '.', 'one', 'good', 'example', 'of', 'this', 'was', 'diary-writing', 'among', 'younger', 'people', 'he', 'said', '.', 'while', 'diaries', 'have', 'always', 'been', 'popular', 'a', 'mobile', 'phone', '--', 'especially', 'one', 'equipped', 'with', 'a', 'camera', '--', 'helps', 'them', 'keep', 'it', 'in', 'a', 'different', 'form', '.', 'youngsters', 'use', 'of', 'text', 'messages', 'also', 'reflects', 'their', 'desire', 'to', 'chat', 'and', 'keep', 'in', 'contact', 'with', 'friends', 'and', 'again', 'just', 'lets', 'them', 'do', 'it', 'in', 'a', 'slightly', 'changed', 'way', '.', 'dr', 'bjorn', 'said', 'that', 'although', 'consumers', 'do', 'what', 'they', 'always', 'did', 'but', 'use', 'a', 'phone', 'to', 'do', 'it', 'the', 'sheer', 'variety', 'of', 'what', 'the', 'new', 'handset', 'technologies', 'make', 'possible', 'does', 'gradually', 'drive', 'new', 'habits', 'and', 'lifestyles', '.', 'ericsson', 's', 'research', 'has', 'shown', 'that', 'consumers', 'divide', 'into', 'different', 'tribes', 'that', 'use', 'phones', 'in', 'different', 'ways', '.', 'dr', 'bjorn', 'said', 'groups', 'dubbed', 'pioneers', 'and', 'materialists', 'were', 'most', 'interested', 'in', 'trying', 'new', 'things', 'and', 'were', 'behind', 'the', 'start', 'of', 'many', 'trends', 'in', 'phone', 'use', '.', 'for', 'instance', 'he', 'said', 'older', 'people', 'are', 'using', 'sms', 'much', 'more', 'than', 'they', 'did', 'five', 'years', 'ago', '.', 'this', 'was', 'because', 'younger', 'users', 'often', 'the', 'children', 'of', 'ageing', 'mobile', 'owners', 'encouraged', 'older', 'people', 'to', 'try', 'it', 'so', 'they', 'could', 'keep', 'in', 'touch', '.', 'another', 'factor', 'governing', 'the', 'speed', 'of', 'change', 'in', 'mobile', 'phone', 'use', 'was', 'the', 'simple', 'speed', 'with', 'which', 'new', 'devices', 'are', 'bought', 'by', 'pioneers', 'and', 'materialists', '.', 'only', 'when', 'about', '25', '%', 'of', 'people', 'have', 'handsets', 'with', 'new', 'innovations', 'on', 'them', 'such', 'as', 'cameras', 'can', 'consumers', 'stop', 'worrying', 'that', 'if', 'they', 'send', 'a', 'picture', 'message', 'the', 'person', 'at', 'the', 'other', 'end', 'will', 'be', 'able', 'to', 'see', 'it', '.', 'once', 'this', 'significant', 'number', 'of', 'users', 'is', 'passed', 'use', 'of', 'new', 'innovations', 'tends', 'to', 'take', 'off', '.', 'dr', 'bjorn', 'said', 'that', 'early', 'reports', 'of', 'camera', 'phone', 'usage', 'in', 'japan', 'seemed', 'to', 'imply', 'that', 'the', 'innovation', 'was', 'going', 'to', 'be', 'a', 'flop', '.', 'however', 'he', 'said', 'now', '45', '%', 'of', 'the', 'japanese', 'people', 'ericsson', 'questioned', 'use', 'their', 'camera', 'phone', 'at', 'least', 'once', 'a', 'month', '.', 'in', '2003', 'the', 'figure', 'was', '29', '%', '.', 'similarly', 'across', 'europe', 'the', 'numbers', 'of', 'people', 'taking', 'snaps', 'with', 'cameras', 'is', 'starting', 'to', 'rise', '.', 'in', '2003', 'only', '4', '%', 'of', 'the', 'people', 'in', 'the', 'uk', 'took', 'a', 'phonecam', 'snap', 'at', 'least', 'once', 'a', 'month', '.', 'now', 'the', 'figure', 'is', '14', '%', '.', 'similar', 'rises', 'have', 'been', 'seen', 'in', 'many', 'other', 'european', 'nations', '.', 'dr', 'bjorn', 'said', 'that', 'people', 'also', 'used', 'their', 'camera', 'phones', 'in', 'very', 'different', 'ways', 'to', 'film', 'and', 'even', 'digital', 'cameras', '.', 'usage', 'patterns', 'for', 'digital', 'cameras', 'are', 'almost', 'exactly', 'replacing', 'usage', 'patterns', 'for', 'analogue', 'cameras', 'he', 'said', '.', 'digital', 'cameras', 'tend', 'to', 'be', 'used', 'on', 'significant', 'events', 'such', 'as', 'weddings', 'holidays', 'and', 'birthdays', '.', 'by', 'contrast', 'he', 'said', 'camera', 'phones', 'were', 'being', 'used', 'much', 'more', 'to', 'capture', 'a', 'moment', 'and', 'were', 'being', 'woven', 'into', 'everyday', 'life', '.']\n",
      "['enron', 'bosses', 'in', '$', '168m', 'payout', 'eighteen', 'former', 'enron', 'directors', 'have', 'agreed', 'a', '$', '168m', '(', '£89m', ')', 'settlement', 'deal', 'in', 'a', 'shareholder', 'lawsuit', 'over', 'the', 'collapse', 'of', 'the', 'energy', 'firm', '.', 'leading', 'plaintiff', 'the', 'university', 'of', 'california', 'announced', 'the', 'news', 'adding', 'that', '10', 'of', 'the', 'former', 'directors', 'will', 'pay', '$', '13m', 'from', 'their', 'own', 'pockets', '.', 'the', 'settlement', 'will', 'be', 'put', 'to', 'the', 'courts', 'for', 'approval', 'next', 'week', '.', 'enron', 'went', 'bankrupt', 'in', '2001', 'after', 'it', 'emerged', 'it', 'had', 'hidden', 'hundreds', 'of', 'millions', 'of', 'dollars', 'in', 'debt', '.', 'before', 'its', 'collapse', 'the', 'firm', 'was', 'the', 'seventh', 'biggest', 'public', 'us', 'company', 'by', 'revenue', '.', 'its', 'demise', 'sent', 'shockwaves', 'through', 'financial', 'markets', 'and', 'dented', 'investor', 'confidence', 'in', 'corporate', 'america', '.', 'the', 'settlement', 'is', 'very', 'significant', 'in', 'holding', 'these', 'outside', 'directors', 'at', 'least', 'partially', 'personally', 'responsible', 'william', 'lerach', 'the', 'lawyer', 'leading', 'the', 'class', 'action', 'suit', 'against', 'enron', 'said', '.', 'hopefully', 'this', 'will', 'help', 'send', 'a', 'message', 'to', 'corporate', 'boardrooms', 'of', 'the', 'importance', 'of', 'directors', 'performing', 'their', 'legal', 'duties', 'he', 'added', '.', 'under', 'the', 'terms', 'of', 'the', '$', '168m', 'settlement', '-', '$', '155m', 'of', 'which', 'will', 'be', 'covered', 'by', 'insurance', '-', 'none', 'of', 'the', '18', 'former', 'directors', 'will', 'admit', 'any', 'wrongdoing', '.', 'the', 'deal', 'is', 'the', 'fourth', 'major', 'settlement', 'negotiated', 'by', 'lawyers', 'who', 'filed', 'a', 'class', 'action', 'on', 'behalf', 'of', 'enron', 's', 'shareholders', 'almost', 'three', 'years', 'ago', '.', 'so', 'far', 'including', 'the', 'latest', 'deal', 'just', 'under', '$', '500m', '(', '£378.8m', ')', 'has', 'been', 'retrieved', 'for', 'investors', '.', 'however', 'the', 'latest', 'deal', 'does', 'not', 'include', 'former', 'enron', 'chief', 'executives', 'ken', 'lay', 'and', 'jeff', 'skilling', '.', 'both', 'men', 'are', 'facing', 'criminal', 'charges', 'for', 'their', 'alleged', 'misconduct', 'in', 'the', 'run', 'up', 'to', 'the', 'firm', 's', 'collapse', '.', 'neither', 'does', 'it', 'cover', 'andrew', 'fastow', 'who', 'has', 'pleaded', 'guilty', 'to', 'taking', 'part', 'in', 'an', 'illegal', 'conspiracy', 'while', 'he', 'was', 'chief', 'financial', 'officer', 'at', 'the', 'group', '.', 'enron', 's', 'shareholders', 'are', 'still', 'seeking', 'damages', 'from', 'a', 'long', 'list', 'of', 'other', 'big', 'name', 'defendants', 'including', 'the', 'financial', 'institutions', 'jp', 'morgan', 'chase', 'citigroup', 'merrill', 'lynch', 'and', 'credit', 'suisse', 'first', 'boston', '.', 'the', 'university', 'of', 'california', 'said', 'the', 'trial', 'in', 'the', 'case', 'is', 'scheduled', 'to', 'begin', 'in', 'october', '2006.', 'it', 'joined', 'the', 'lawsuit', 'in', 'december', '2001alleging', 'massive', 'insider', 'trading', 'and', 'fraud', 'claiming', 'it', 'had', 'lost', '$', '145m', 'on', 'its', 'investments', 'in', 'the', 'company', '.']\n",
      "['howard', 'truanted', 'to', 'play', 'snooker', 'conservative', 'leader', 'michael', 'howard', 'has', 'admitted', 'he', 'used', 'to', 'play', 'truant', 'to', 'spend', 'time', 'with', 'his', 'school', 'friends', 'at', 'a', 'snooker', 'hall', '.', 'mr', 'howard', 'said', 'his', 'time', 'at', 'jack', 's', 'snooker', 'hall', 'in', 'llanelli', 'in', 'the', '1950s', 'had', 'not', 'done', 'him', 'any', 'lasting', 'damage', '.', 'but', 'he', 'told', 'the', 'times', 'educational', 'supplement', 'that', 'truancy', 'was', 'very', 'bad', 'and', 'said', 'firm', 'action', 'was', 'needed', '.', 'mr', 'howard', 'also', 'called', 'for', 'a', 'return', 'to', 'o-levels', 'and', 'more', 'classroom', 'discipline', '.', 'mr', 'howard', 'eventually', 'left', 'llanelli', 'grammar', 'school', '-', 'and', 'the', 'snooker', 'hall', '-', 'to', 'go', 'to', 'cambridge', 'university', '.', 'he', 'said', ':', 'i', 'don', 't', 'think', 'it', 's', 'done', 'me', 'any', 'lasting', 'damage', '.', 'nor', 'has', 'it', 'made', 'me', 'a', 'snooker', 'world', 'champion', '.', 'there', 'might', 'have', 'been', 'some', 'occasions', 'when', 'we', 'left', 'early', 'of', 'an', 'afternoon', '.', 'i', 'm', 'just', 'being', 'honest', '.', 'i', 'think', 'truancy', 'is', 'a', 'very', 'bad', 'thing', 'and', 'that', 'firm', 'action', 'should', 'be', 'taken', 'to', 'deal', 'with', 'it', '.', 'another', 'player', 'who', 'has', 'failed', 'to', 'win', 'snooker', 's', 'world', 'championship', '-', 'jimmy', 'the', 'whirlwind', 'white', '-', 'has', 'previously', 'admitted', 'missing', 'lessons', 'instead', 'spending', 'his', 'days', 'in', 'smoky', 'halls', '.', 'tony', 'meo', '[', 'another', 'player', ']', 'and', 'me', 'used', 'to', 'spend', 'all', 'of', 'our', 'spare', 'time', 'there', 'mr', 'white', 'said', 'we', 'loved', 'the', 'game', 'and', 'the', 'atmosphere', '.', 'school', 'went', 'out', 'of', 'the', 'window', '.', 'i', 'went', 'for', 'a', 'while', 'and', 'then', 'started', 'taking', 'time', 'off', '.', 'mr', 'howard', 's', 'fellow', 'welshman', 'ray', 'reardon', '-', 'known', 'by', 'his', 'fellow', 'professionals', 'as', 'dracula', '-', 'won', 'the', 'snooker', 'world', 'championship', 'six', 'times', 'having', 'left', 'school', 'at', '14', 'to', 'work', 'as', 'a', 'miner', '.', 'and', 'terry', 'griffiths', 'like', 'mr', 'howard', 'from', 'llanelli', 'won', 'the', 'tournament', 'in', '1979.', 'it', 'is', 'not', 'known', 'whether', 'the', 'two', 'of', 'them', 'ever', 'clashed', 'cues', 'at', 'jack', 's', '.']\n",
      "['wales', 'silent', 'on', 'grand', 'slam', 'talk', 'rhys', 'williams', 'says', 'wales', 'are', 'still', 'not', 'thinking', 'of', 'winning', 'the', 'grand', 'slam', 'despite', 'a', 'third', 'six', 'nations', 'win', '.', 'that', 's', 'the', 'last', 'thing', 'on', 'our', 'minds', 'at', 'the', 'moment', 'said', 'williams', 'a', 'second-', 'half', 'replacement', 'in', 'saturday', 's', '24-18', 'win', 'over', 'france', 'in', 'paris', '.', 'we', 'all', 'realise', 'how', 'difficult', 'a', 'task', 'it', 'is', 'to', 'go', 'up', 'to', 'scotland', 'and', 'beat', 'them', '.', 'we', 've', 'come', 'unstuck', 'there', 'a', 'couple', 'of', 'times', 'recently', 'so', 'our', 'focus', 'is', 'on', 'that', 'game', 'and', 'we', 'll', 'worry', 'about', 'ireland', 'hopefully', 'after', 'we', 've', 'beaten', 'scotland', '.', 'with', 'captain', 'gareth', 'thomas', 'ruled', 'out', 'of', 'the', 'rest', 'of', 'the', 'campaign', 'with', 'a', 'broken', 'thumb', 'williams', 'is', 'vying', 'for', 'his', 'first', 'start', 'in', 'the', 'championship', 'so', 'far', '.', 'kevin', 'morgan', 'is', 'probably', 'favourite', 'to', 'replace', 'thomas', 'at', 'full-back', 'leaving', 'williams', 'and', 'hal', 'luscombe', 'to', 'battle', 'for', 'the', 'right', 'wing', 'berth', '.', 'a', 'hamstring', 'injury', 'denied', 'luscombe', 'the', 'opportunity', 'to', 'make', 'a', 'third', 'successive', 'start', 'but', 'the', 'dragons', 'winger', 'is', 'expected', 'to', 'be', 'fit', 'for', 'the', 'trip', 'to', 'murrayfield', 'on', '13', 'march', '.', 'hooker', 'robin', 'mcbryde', 'is', 'doubtful', 'after', 'picking', 'up', 'a', 'knee', 'injury', 'in', 'paris', 'but', 'centre', 'sonny', 'parker', 'and', 'flanker', 'colin', 'charvis', 'are', 'set', 'to', 'recover', 'from', 'injury', 'to', 'be', 'in', 'contention', 'for', 'selection', '.', 'said', 'wales', 'assistant', 'coach', 'scott', 'johnson', ':', 'they', 've', 'worked', 'through', 'the', 'weekend', 'and', 'the', 'reports', 'are', 'a', 'bit', 'more', 'positive', '.', 'so', 'we', 're', 'getting', 'a', 'couple', 'back', 'and', 'that', 'adds', 'to', 'the', 'depth', 'of', 'the', 'squad', '.', 'scotland', 'secured', 'their', 'first', 'win', 'of', 'the', 'campaign', 'on', 'saturday', 'by', 'grinding', 'out', 'an', '18-10', 'win', 'over', 'italy', '.', 'matt', 'williams', 'side', 'has', 'shown', 'little', 'in', 'attack', 'but', 'johnson', 'insisted', 'the', 'scots', 'will', 'be', 'difficult', 'opposition', 'to', 'break', 'down', '.', 'italy', 'are', 'really', 'brave', 'opposition', 'and', 'sometimes', 'it', 's', 'very', 'hard', 'to', 'win', 'he', 'said', '.', 'so', 'an', 'ugly', 'win', 'can', 'be', 'just', 'as', 'effective', 'as', 'a', '30', 'or', '40', 'point', 'victory', '.', 'scotland', 'are', 'a', 'hard', 'side', 'and', 'very', 'underrated', 'so', 'we', 're', 'not', 'taking', 'anything', 'for', 'granted', '.', 'we', 're', 'not', 'basking', 'in', 'the', 'glory', 'of', 'winning', 'our', 'first', 'three', 'games', '.', 'we', 've', 'got', 'to', 'be', 'diligent', 'in', 'our', 'preparation', '.', 'that', 's', 'my', 'job', 'and', 'we', 've', 'got', 'to', 'make', 'sure', 'we', 're', 'focused', '.']\n",
      "['french', 'honour', 'for', 'director', 'parker', 'british', 'film', 'director', 'sir', 'alan', 'parker', 'has', 'been', 'made', 'an', 'officer', 'in', 'the', 'order', 'of', 'arts', 'and', 'letters', 'one', 'of', 'france', 's', 'highest', 'cultural', 'honours', '.', 'sir', 'alan', 'received', 'his', 'decoration', 'in', 'paris', 'on', 'wednesday', 'from', 'french', 'culture', 'minister', 'renaud', 'donnedieu', 'de', 'vabres', '.', 'you', 'have', 'explored', 'the', 'possibilities', 'of', 'film', 'with', 'an', 'immense', 'talent', 'mr', 'de', 'vabres', 'said', 'as', 'he', 'presented', 'the', 'award', '.', 'parker', 'praised', 'french', 'films', 'saying', ':', 'hollywood', 'which', 'created', 'modern', 'cinema', 'uses', 'it', 'only', 'as', 'a', 'commodity', '.', 'he', 'told', 'the', 'minister', ':', 'i', 'am', 'honoured', 'to', 'be', 'thus', 'distinguished', 'by', 'france', 'the', 'flag', 'carrier', 'of', 'cinema', 'throughout', 'the', 'world', '.', 'sir', 'alan', 's', 'films', 'include', 'oscar-winning', 'fame', 'plus', 'midnight', 'express', 'and', 'the', 'commitments', '.', 'a', 'founding', 'member', 'of', 'the', 'director', 's', 'guild', 'of', 'great', 'britain', 'he', 'is', 'a', 'former', 'chairman', 'of', 'the', 'uk', 'film', 'council', 'and', 'on', 'the', 'board', 'of', 'the', 'british', 'film', 'institute', '.', 'through', 'your', 'work', 'and', 'your', 'campaigns', 'you', 'have', 'shown', 'us', 'how', 'the', 'artist', 'occupies', 'an', 'essential', 'place', 'in', 'our', 'contemporary', 'society', 'mr', 'de', 'vabres', 'said', '.', 'through', 'your', 'dreams', 'which', 'you', 'show', 'us', 'through', 'the', 'links', 'that', 'you', 'weave', 'you', 'question', 'the', 'world', 'through', 'the', 'mirror', 'of', 'your', 'work', '.', 'he', 'also', 'cited', 'the', 'director', 's', '2003', 'film', 'the', 'life', 'of', 'david', 'gale', 'in', 'which', 'kevin', 'spacey', 'played', 'a', 'man', 'on', 'death', 'row', 'as', 'proof', 'of', 'his', 'veritable', 'artistic', 'commitment', 'against', 'the', 'death', 'sentence', '.']\n",
      "['car', 'giant', 'hit', 'by', 'mercedes', 'slump', 'a', 'slump', 'in', 'profitability', 'at', 'luxury', 'car', 'maker', 'mercedes', 'has', 'prompted', 'a', 'big', 'drop', 'in', 'profits', 'at', 'parent', 'daimlerchrysler', '.', 'the', 'german-us', 'carmaker', 'saw', 'fourth', 'quarter', 'operating', 'profits', 'fall', 'to', '785m', 'euros', '(', '$', '1bn', ')', 'from', '2.4bn', 'euros', 'in', '2003.', 'mercedes-benz', 's', 'woes', '-', 'its', 'profits', 'slid', 'to', 'just', '20m', 'euros', '-', 'obscured', 'a', 'strong', 'performance', 'from', 'the', 'chrysler', 'group', 'whose', 'returns', 'met', 'market', 'expectations', '.', 'mercedes', 'faces', 'fierce', 'competition', 'in', 'the', 'luxury', 'car', 'sector', 'from', 'bmw', 'and', 'but', 'hopes', 'to', 'revive', 'its', 'fortunes', 'by', '2006.', 'mercedes', 'profits', 'over', 'the', 'period', 'compared', 'unfavourably', 'with', '2003', 's', '784m', 'euro', 'figure', 'and', 'were', 'well', 'below', 'analyst', 'expectations', 'of', '374m', 'euros', '.', 'for', 'the', 'year', 'as', 'a', 'whole', 'its', 'operating', 'profits', 'fell', '46', '%', 'to', '1.6bn', 'euros', '.', 'sales', 'of', 'mercedes', 'brands', 'fell', '2', '%', 'as', 'demand', 'cooled', 'while', 'revenues', 'were', 'affected', 'by', 'the', 'weakness', 'of', 'the', 'us', 'dollar', '.', 'the', 'carmaker', 'blamed', 'the', 'fall', 'in', 'profits', 'on', 'high', 'launch', 'costs', 'for', 'new', 'models', 'and', 'losses', 'from', 'its', 'mercedes', 'smart', 'mini-car', 'range', '.', 'mercedes', 'is', 'hoping', 'to', 'increase', 'productivity', 'by', '3bn', 'euros', 'having', 'negotiated', '500m', 'euros', 'in', 'annual', 'savings', 'with', 'german', 'workers', 'last', 'year', '.', 'the', 'firm', 'said', 'it', 'was', 'determined', 'to', 'retain', 'mercedes', 'position', 'as', 'the', 'world', 's', 'most', 'successful', 'luxury', 'brand', '.', 'however', 'daimlerchrysler', 's', 'shares', 'fell', '1.5', '%', 'on', 'the', 'news', '.', 'while', 'all', 'these', 'divisions', 'are', 'doing', 'well', 'the', 'big', 'worries', 'continue', 'to', 'surround', 'mercedes-benz', 'michael', 'rabb', 'an', 'analyst', 'with', 'bank', 'sal', 'oppenheim', 'told', 'reuters', '.', 'in', 'contrast', 'chrysler', 'enjoyed', 'a', '5', '%', 'annual', 'increase', 'in', 'unit', 'sales', 'while', 'revenues', '-', 'calculated', 'in', 'us', 'dollars', '-', 'rose', '10', '%', '.', 'the', 'us', 'division', '-', 'whose', 'marques', 'include', 'dodge', 'and', 'jeep', '-', 'transformed', 'a', 'full', 'year', 'operating', 'loss', 'of', '506m', 'euros', 'in', '2003', 'into', 'a', '1.4bn', 'euros', 'profit', 'last', 'year', '.', 'overall', 'daimlerchrysler', 'saw', 'worldwide', 'vehicle', 'sales', 'rise', '8', '%', 'to', '4.7', 'million', 'in', '2004', 'while', 'total', 'revenues', 'added', '4', '%', 'to', '142bn', 'euros', '.', 'chrysler', 's', 'strong', 'performance', 'helped', 'the', 'world', 's', 'fifth', 'largest', 'carmaker', 'boost', 'net', 'income', 'by', '400m', 'euros', 'to', '2.5bn', 'euros', '.', 'the', 'year', '2004', 'shows', 'that', 'our', 'strategy', 'works', 'well', '-', 'even', 'in', 'such', 'a', 'challenging', 'competitive', 'environment', 'said', 'jurgen', 'schrempp', 'daimlerchrysler', 's', 'chairman', '.', 'daimlerchrysler', 'took', 'a', '475m', 'euro', 'hit', 'in', 'costs', 'stemming', 'from', 'a', 'defects', 'scandal', 'at', 'its', 'joint', 'venture', 'japanese', 'subsidiary', 'fuso', '.', 'daimlerchrysler', 'last', 'week', 'agreed', 'a', 'compensation', 'package', 'with', 'partner', 'mitsubishi', 'motors', 'which', 'will', 'see', 'it', 'buy', 'out', 'its', 'stake', 'in', 'fuso', '.', 'looking', 'forward', 'daimerchrysler', 's', 'profits', 'are', 'expected', 'to', 'be', 'slightly', 'higher', 'in', '2005.', 'however', 'it', 'is', 'expecting', 'significant', 'improvements', 'in', 'profitability', 'in', '2006', 'as', 'a', 'result', 'of', 'a', 'major', 'investment', 'in', 'the', 'mercedes', 'product', 'range', '.']\n",
      "['fockers', 'fuel', 'festive', 'film', 'chart', 'comedy', 'meet', 'the', 'fockers', 'topped', 'the', 'festive', 'box', 'office', 'in', 'north', 'america', 'setting', 'a', 'new', 'record', 'for', 'christmas', 'day', '.', 'the', 'sequel', 'took', '$', '44.7m', '(', '£23.2m', ')', 'between', '24', 'and', '26', 'december', 'according', 'to', 'studio', 'estimates', '.', 'it', 'took', '$', '19.1m', '(', '£9.9m', ')', 'on', 'christmas', 'day', 'alone', 'the', 'highest', 'takings', 'on', 'that', 'day', 'in', 'box', 'office', 'history', '.', 'meet', 'the', 'fockers', 'is', 'the', 'sequel', 'to', 'ben', 'stiller', 'comedy', 'meet', 'the', 'parents', 'also', 'starring', 'robert', 'de', 'niro', 'blythe', 'danner', 'dustin', 'hoffman', 'and', 'barbra', 'streisand', '.', 'despite', 'the', 'success', 'of', 'meet', 'the', 'fockers', 'takings', 'were', 'down', '26.5', '%', 'on', '2003', 's', 'figures', '-', 'which', 'was', 'blamed', 'on', 'christmas', 'falling', 'over', 'a', 'weekend', 'this', 'year', '.', 'when', 'christmas', 'falls', 'on', 'a', 'weekend', 'it', 's', 'bad', 'for', 'business', 'said', 'paul', 'dergarabedian', 'president', 'of', 'exhibitor', 'relations', 'which', 'compiles', 'box', 'office', 'statistics', '.', 'the', 'weekend', 's', 'top', '12', 'films', 'took', 'an', 'estimated', '$', '121.9m', '(', '£63.3m', ')', 'compared', 'with', '$', '165.8m', '(', '£86.1m', ')', 'last', 'year', 'when', 'the', 'third', 'lord', 'of', 'the', 'rings', 'film', 'dominated', 'the', 'box', 'office', '.', 'meet', 'the', 'fockers', 'knocked', 'last', 'week', 's', 'top', 'film', 'lemony', 'snicket', 's', 'a', 'series', 'of', 'unfortunate', 'events', 'down', 'to', 'third', 'place', 'with', '$', '12.5m', '(', '£6.5m', ')', '.', 'comedy', 'fat', 'albert', '-', 'co-written', 'by', 'bill', 'cosby', '-', 'entered', 'the', 'chart', 'in', 'second', 'place', 'after', 'opening', 'on', 'christmas', 'day', 'taking', '$', '12.7m', '(', '£6.6m', ')', '.', 'the', 'aviator', 'starring', 'leonardo', 'dicaprio', 'as', 'howard', 'hughes', 'took', '$', '9.4m', 'after', 'expanding', 'from', '40', 'to', '1', '796', 'cinemas', 'on', 'christmas', 'day', '.']\n"
     ]
    }
   ],
   "source": [
    "for article in word_tokens[0:10]:\n",
    "    print(article)"
   ]
  },
  {
   "cell_type": "code",
   "execution_count": 79,
   "id": "856bce98",
   "metadata": {},
   "outputs": [
    {
     "name": "stdout",
     "output_type": "stream",
     "text": [
      "stopwords:\n",
      "{\"you'll\", \"that'll\", \"it's\", 'have', 'some', 'by', 'their', 'after', 'then', 'between', 'are', 'll', 'yourself', 'both', 'doesn', 'y', 'than', 'own', 'ours', 'has', 'it', 'more', 'ma', 'why', \"she's\", 'before', 'herself', 'nor', 'yours', 'should', 'will', 'o', 'only', 'into', 'this', 'him', 'is', 'myself', 'its', 'me', 'won', 'too', 'wasn', 'each', \"don't\", 'did', 'that', 'below', 'there', 'hers', 'yourselves', 'needn', 'of', 'does', 'once', 'all', \"weren't\", 'so', 'isn', 'been', 'your', 'over', \"won't\", 'she', 'themselves', 'those', 'where', 'an', 'hasn', 'shouldn', 'doing', \"shouldn't\", 'shan', 'and', 'theirs', 'out', 'our', 'with', 'if', 'but', \"you'd\", 'until', 'most', \"wouldn't\", 'hadn', 'had', \"hadn't\", 'how', 'you', 'weren', \"didn't\", 'was', 'i', 'itself', 'above', 'were', \"mustn't\", \"aren't\", \"hasn't\", \"haven't\", 't', 'mightn', 'just', 'such', 'no', 'under', 'whom', 'from', 'be', 'aren', 'what', \"mightn't\", 'my', 'he', 'didn', \"doesn't\", 'having', 'at', 'ain', 'against', 'up', \"isn't\", 'these', 'same', 'am', 'do', 'd', 'while', 'm', 'himself', 'haven', 'not', 'her', 'through', 'wouldn', 'during', 'who', 've', 'now', 'further', 'on', 'here', \"should've\", 'in', 'them', 'when', 'ourselves', 'off', 're', 'to', 'couldn', 'they', 'being', 'about', 'few', \"needn't\", 'other', 'very', 'for', 'down', 'as', 'we', 'his', 'which', \"you've\", 'or', 's', 'because', 'mustn', 'any', 'a', 'can', \"couldn't\", \"shan't\", 'again', 'the', \"wasn't\", \"you're\", 'don'}\n",
      "\n",
      "punctuations:\n",
      "{'\\\\', '=', ']', '*', '$', '?', '&', '>', '/', ',', '+', '{', '_', '`', '!', \"'\", '-', '~', '(', '|', '}', '^', '%', '[', '#', ')', '\"', ';', '<', '@', ':', '.'}\n",
      "\n",
      "filtered_articles:\n",
      "[['worldcom', 'ex-boss', 'launches', 'defence', 'lawyers', 'defending', 'former', 'worldcom', 'chief', 'bernie', 'ebbers', 'battery', 'fraud', 'charges', 'called', 'company', 'whistleblower', 'first', 'witness', 'cynthia', 'cooper', 'worldcom', 'ex-head', 'internal', 'accounting', 'alerted', 'directors', 'irregular', 'accounting', 'practices', 'us', 'telecoms', 'giant', '2002.', 'warnings', 'led', 'collapse', 'firm', 'following', 'discovery', '11bn', '£5.7bn', 'accounting', 'fraud', 'mr', 'ebbers', 'pleaded', 'guilty', 'charges', 'fraud', 'conspiracy', 'prosecution', 'lawyers', 'argued', 'mr', 'ebbers', 'orchestrated', 'series', 'accounting', 'tricks', 'worldcom', 'ordering', 'employees', 'hide', 'expenses', 'inflate', 'revenues', 'meet', 'wall', 'street', 'earnings', 'estimates', 'ms', 'cooper', 'runs', 'consulting', 'business', 'told', 'jury', 'new', 'york', 'wednesday', 'external', 'auditors', 'arthur', 'andersen', 'approved', 'worldcom', 'accounting', 'early', '2001', '2002.', 'said', 'andersen', 'given', 'green', 'light', 'procedures', 'practices', 'used', 'worldcom', 'mr', 'ebber', 'lawyers', 'said', 'unaware', 'fraud', 'arguing', 'auditors', 'alert', 'problems', 'ms', 'cooper', 'also', 'said', 'shareholder', 'meetings', 'mr', 'ebbers', 'often', 'passed', 'technical', 'questions', 'company', 'finance', 'chief', 'giving', 'brief', 'answers', 'prosecution', 'star', 'witness', 'former', 'worldcom', 'financial', 'chief', 'scott', 'sullivan', 'said', 'mr', 'ebbers', 'ordered', 'accounting', 'adjustments', 'firm', 'telling', 'hit', 'books', 'however', 'ms', 'cooper', 'said', 'mr', 'sullivan', 'mentioned', 'anything', 'uncomfortable', 'worldcom', 'accounting', '2001', 'audit', 'committee', 'meeting', 'mr', 'ebbers', 'could', 'face', 'jail', 'sentence', '85', 'years', 'convicted', 'charges', 'facing', 'worldcom', 'emerged', 'bankruptcy', 'protection', '2004', 'known', 'mci', 'last', 'week', 'mci', 'agreed', 'buyout', 'verizon', 'communications', 'deal', 'valued', '6.75bn'], ['german', 'business', 'confidence', 'slides', 'german', 'business', 'confidence', 'fell', 'february', 'knocking', 'hopes', 'speedy', 'recovery', 'europe', 'largest', 'economy', 'munich-based', 'research', 'institute', 'ifo', 'said', 'confidence', 'index', 'fell', '95.5', 'february', '97.5', 'january', 'first', 'decline', 'three', 'months', 'study', 'found', 'outlook', 'manufacturing', 'retail', 'sectors', 'worsened', 'observers', 'hoping', 'confident', 'business', 'sector', 'would', 'signal', 'economic', 'activity', 'picking', 'surprised', 'ifo', 'index', 'taken', 'knock', 'said', 'dz', 'bank', 'economist', 'bernd', 'weidensteiner', 'main', 'reason', 'probably', 'domestic', 'economy', 'still', 'weak', 'particularly', 'retail', 'trade', 'economy', 'labour', 'minister', 'wolfgang', 'clement', 'called', 'dip', 'february', 'ifo', 'confidence', 'figure', 'mild', 'decline', 'said', 'despite', 'retreat', 'index', 'remained', 'relatively', 'high', 'level', 'expected', 'modest', 'economic', 'upswing', 'continue', 'germany', 'economy', 'grew', '1.6', 'last', 'year', 'shrinking', '2003.', 'however', 'economy', 'contracted', '0.2', 'last', 'three', 'months', '2004', 'mainly', 'due', 'reluctance', 'consumers', 'spend', 'latest', 'indications', 'growth', 'still', 'proving', 'elusive', 'ifo', 'president', 'hans-werner', 'sinn', 'said', 'improvement', 'german', 'domestic', 'demand', 'sluggish', 'exports', 'kept', 'things', 'going', 'first', 'half', '2004', 'demand', 'exports', 'hit', 'value', 'euro', 'hit', 'record', 'levels', 'making', 'german', 'products', 'less', 'competitive', 'overseas', 'top', 'unemployment', 'rate', 'stuck', 'close', '10', 'manufacturing', 'firms', 'including', 'daimlerchrysler', 'siemens', 'volkswagen', 'negotiating', 'unions', 'cost', 'cutting', 'measures', 'analysts', 'said', 'ifo', 'figures', 'germany', 'continuing', 'problems', 'may', 'delay', 'interest', 'rate', 'rise', 'european', 'central', 'bank', 'eurozone', 'interest', 'rates', '2', 'comments', 'senior', 'officials', 'recently', 'focused', 'threat', 'inflation', 'prompting', 'fears', 'interest', 'rates', 'may', 'rise'], ['bbc', 'poll', 'indicates', 'economic', 'gloom', 'citizens', 'majority', 'nations', 'surveyed', 'bbc', 'world', 'service', 'poll', 'believe', 'world', 'economy', 'worsening', 'respondents', 'also', 'said', 'national', 'economy', 'getting', 'worse', 'asked', 'family', 'financial', 'outlook', 'majority', '14', 'countries', 'said', 'positive', 'future', 'almost', '23', '000', 'people', '22', 'countries', 'questioned', 'poll', 'mostly', 'conducted', 'asian', 'tsunami', 'disaster', 'poll', 'found', 'majority', 'plurality', 'people', '13', 'countries', 'believed', 'economy', 'going', 'downhill', 'compared', 'respondents', 'nine', 'countries', 'believed', 'improving', 'surveyed', 'three', 'countries', 'split', 'percentage', 'terms', 'average', '44', 'respondents', 'country', 'said', 'world', 'economy', 'getting', 'worse', 'compared', '34', 'said', 'improving', 'similarly', '48', 'pessimistic', 'national', 'economy', '41', 'optimistic', '47', 'saw', 'family', 'economic', 'conditions', 'improving', '36', 'said', 'getting', 'worse', 'poll', '22', '953', 'people', 'conducted', 'international', 'polling', 'firm', 'globescan', 'together', 'program', 'international', 'policy', 'attitudes', 'pipa', 'university', 'maryland', 'world', 'economy', 'picked', 'difficult', 'times', 'years', 'ago', 'people', 'seem', 'fully', 'absorbed', 'development', 'though', 'personally', 'experiencing', 'effects', 'said', 'pipa', 'director', 'steven', 'kull', 'people', 'around', 'world', 'saying', 'ok', 'world', 'may', 'perception', 'war', 'terrorism', 'religious', 'political', 'divisions', 'making', 'world', 'worse', 'place', 'even', 'though', 'far', 'reflected', 'global', 'economic', 'performance', 'says', 'bbc', 'elizabeth', 'blunt', 'countries', 'people', 'optimistic', 'world', 'families', 'two', 'fast-growing', 'developing', 'economies', 'china', 'india', 'followed', 'indonesia', 'china', 'seen', 'two', 'decades', 'blistering', 'economic', 'growth', 'led', 'wealth', 'creation', 'huge', 'scale', 'says', 'bbc', 'louisa', 'lim', 'beijing', 'results', 'also', 'may', 'reflect', 'untrammelled', 'confidence', 'people', 'subject', 'endless', 'government', 'propaganda', 'country', 'rosy', 'economic', 'future', 'correspondent', 'says', 'south', 'korea', 'pessimistic', 'respondents', 'italy', 'mexico', 'also', 'quite', 'gloomy', 'bbc', 'david', 'willey', 'rome', 'says', 'one', 'reason', 'result', 'changeover', 'lira', 'euro', '2001', 'widely', 'viewed', 'biggest', 'reason', 'wages', 'salaries', 'worth', 'less', 'used', 'philippines', 'among', 'upbeat', 'countries', 'prospects', 'respondents', 'families', 'one', 'pessimistic', 'world', 'economy', 'pipa', 'conducted', 'poll', '15', 'november', '2004', '3', 'january', '2005', 'across', '22', 'countries', 'face-to-face', 'telephone', 'interviews', 'interviews', 'took', 'place', '15', 'november', '2004', '5', 'january', '2005.', 'margin', 'error', '2.5', '4', 'points', 'depending', 'country', 'eight', 'countries', 'sample', 'limited', 'major', 'metropolitan', 'areas'], ['lifestyle', 'governs', 'mobile', 'choice', 'faster', 'better', 'funkier', 'hardware', 'alone', 'going', 'help', 'phone', 'firms', 'sell', 'handsets', 'research', 'suggests', 'instead', 'phone', 'firms', 'keen', 'get', 'customers', 'pushing', 'technology', 'sake', 'consumers', 'far', 'interested', 'handsets', 'fit', 'lifestyle', 'screen', 'size', 'onboard', 'memory', 'chip', 'inside', 'shows', 'in-depth', 'study', 'handset', 'maker', 'ericsson', 'historically', 'industry', 'much', 'focus', 'using', 'technology', 'said', 'dr', 'michael', 'bjorn', 'senior', 'advisor', 'mobile', 'media', 'ericsson', 'consumer', 'enterprise', 'lab', 'stop', 'saying', 'technologies', 'change', 'lives', 'said', 'try', 'speak', 'consumers', 'language', 'help', 'see', 'fits', 'told', 'bbc', 'news', 'website', 'study', 'ericsson', 'interviewed', '14', '000', 'mobile', 'phone', 'owners', 'ways', 'use', 'phone', 'people', 'habits', 'remain', 'said', 'dr', 'bjorn', 'move', 'activity', 'mobile', 'phone', 'much', 'convenient', 'way', 'one', 'good', 'example', 'diary-writing', 'among', 'younger', 'people', 'said', 'diaries', 'always', 'popular', 'mobile', 'phone', '--', 'especially', 'one', 'equipped', 'camera', '--', 'helps', 'keep', 'different', 'form', 'youngsters', 'use', 'text', 'messages', 'also', 'reflects', 'desire', 'chat', 'keep', 'contact', 'friends', 'lets', 'slightly', 'changed', 'way', 'dr', 'bjorn', 'said', 'although', 'consumers', 'always', 'use', 'phone', 'sheer', 'variety', 'new', 'handset', 'technologies', 'make', 'possible', 'gradually', 'drive', 'new', 'habits', 'lifestyles', 'ericsson', 'research', 'shown', 'consumers', 'divide', 'different', 'tribes', 'use', 'phones', 'different', 'ways', 'dr', 'bjorn', 'said', 'groups', 'dubbed', 'pioneers', 'materialists', 'interested', 'trying', 'new', 'things', 'behind', 'start', 'many', 'trends', 'phone', 'use', 'instance', 'said', 'older', 'people', 'using', 'sms', 'much', 'five', 'years', 'ago', 'younger', 'users', 'often', 'children', 'ageing', 'mobile', 'owners', 'encouraged', 'older', 'people', 'try', 'could', 'keep', 'touch', 'another', 'factor', 'governing', 'speed', 'change', 'mobile', 'phone', 'use', 'simple', 'speed', 'new', 'devices', 'bought', 'pioneers', 'materialists', '25', 'people', 'handsets', 'new', 'innovations', 'cameras', 'consumers', 'stop', 'worrying', 'send', 'picture', 'message', 'person', 'end', 'able', 'see', 'significant', 'number', 'users', 'passed', 'use', 'new', 'innovations', 'tends', 'take', 'dr', 'bjorn', 'said', 'early', 'reports', 'camera', 'phone', 'usage', 'japan', 'seemed', 'imply', 'innovation', 'going', 'flop', 'however', 'said', '45', 'japanese', 'people', 'ericsson', 'questioned', 'use', 'camera', 'phone', 'least', 'month', '2003', 'figure', '29', 'similarly', 'across', 'europe', 'numbers', 'people', 'taking', 'snaps', 'cameras', 'starting', 'rise', '2003', '4', 'people', 'uk', 'took', 'phonecam', 'snap', 'least', 'month', 'figure', '14', 'similar', 'rises', 'seen', 'many', 'european', 'nations', 'dr', 'bjorn', 'said', 'people', 'also', 'used', 'camera', 'phones', 'different', 'ways', 'film', 'even', 'digital', 'cameras', 'usage', 'patterns', 'digital', 'cameras', 'almost', 'exactly', 'replacing', 'usage', 'patterns', 'analogue', 'cameras', 'said', 'digital', 'cameras', 'tend', 'used', 'significant', 'events', 'weddings', 'holidays', 'birthdays', 'contrast', 'said', 'camera', 'phones', 'used', 'much', 'capture', 'moment', 'woven', 'everyday', 'life'], ['enron', 'bosses', '168m', 'payout', 'eighteen', 'former', 'enron', 'directors', 'agreed', '168m', '£89m', 'settlement', 'deal', 'shareholder', 'lawsuit', 'collapse', 'energy', 'firm', 'leading', 'plaintiff', 'university', 'california', 'announced', 'news', 'adding', '10', 'former', 'directors', 'pay', '13m', 'pockets', 'settlement', 'put', 'courts', 'approval', 'next', 'week', 'enron', 'went', 'bankrupt', '2001', 'emerged', 'hidden', 'hundreds', 'millions', 'dollars', 'debt', 'collapse', 'firm', 'seventh', 'biggest', 'public', 'us', 'company', 'revenue', 'demise', 'sent', 'shockwaves', 'financial', 'markets', 'dented', 'investor', 'confidence', 'corporate', 'america', 'settlement', 'significant', 'holding', 'outside', 'directors', 'least', 'partially', 'personally', 'responsible', 'william', 'lerach', 'lawyer', 'leading', 'class', 'action', 'suit', 'enron', 'said', 'hopefully', 'help', 'send', 'message', 'corporate', 'boardrooms', 'importance', 'directors', 'performing', 'legal', 'duties', 'added', 'terms', '168m', 'settlement', '155m', 'covered', 'insurance', 'none', '18', 'former', 'directors', 'admit', 'wrongdoing', 'deal', 'fourth', 'major', 'settlement', 'negotiated', 'lawyers', 'filed', 'class', 'action', 'behalf', 'enron', 'shareholders', 'almost', 'three', 'years', 'ago', 'far', 'including', 'latest', 'deal', '500m', '£378.8m', 'retrieved', 'investors', 'however', 'latest', 'deal', 'include', 'former', 'enron', 'chief', 'executives', 'ken', 'lay', 'jeff', 'skilling', 'men', 'facing', 'criminal', 'charges', 'alleged', 'misconduct', 'run', 'firm', 'collapse', 'neither', 'cover', 'andrew', 'fastow', 'pleaded', 'guilty', 'taking', 'part', 'illegal', 'conspiracy', 'chief', 'financial', 'officer', 'group', 'enron', 'shareholders', 'still', 'seeking', 'damages', 'long', 'list', 'big', 'name', 'defendants', 'including', 'financial', 'institutions', 'jp', 'morgan', 'chase', 'citigroup', 'merrill', 'lynch', 'credit', 'suisse', 'first', 'boston', 'university', 'california', 'said', 'trial', 'case', 'scheduled', 'begin', 'october', '2006.', 'joined', 'lawsuit', 'december', '2001alleging', 'massive', 'insider', 'trading', 'fraud', 'claiming', 'lost', '145m', 'investments', 'company']]\n"
     ]
    }
   ],
   "source": [
    "import string\n",
    "\n",
    "stop_words = set(stopwords.words('english')) \n",
    "print(\"stopwords:\")\n",
    "print(stop_words)\n",
    "\n",
    "punctuations=set(string.punctuation)\n",
    "print(\"\\npunctuations:\")\n",
    "print(punctuations)\n",
    "\n",
    "filtered_articles=[]\n",
    "for article in word_tokens:\n",
    "    temp=[]\n",
    "    for w in article:\n",
    "        if((w not in stop_words) and (w not in punctuations) and (w !=\"'s\") ):\n",
    "            temp.append(w)\n",
    "    filtered_articles.append(temp)   \n",
    "\n",
    "print(\"\\nfiltered_articles:\")\n",
    "print(filtered_articles[0:5])\n"
   ]
  },
  {
   "cell_type": "code",
   "execution_count": 81,
   "id": "34e99a1c",
   "metadata": {},
   "outputs": [
    {
     "name": "stdout",
     "output_type": "stream",
     "text": [
      "stem_articles:\n",
      "['worldcom ex-boss launch defenc lawyer defend former worldcom chief berni ebber batteri fraud charg call compani whistleblow first wit cynthia cooper worldcom ex-head intern account alert director irregular account practic us telecom giant 2002. warn led collaps firm follow discoveri 11bn £5.7bn account fraud mr ebber plead guilti charg fraud conspiraci prosecut lawyer argu mr ebber orchestr seri account trick worldcom order employe hide expens inflat revenu meet wall street earn estim ms cooper run consult busi told juri new york wednesday extern auditor arthur andersen approv worldcom account earli 2001 2002. said andersen given green light procedur practic use worldcom mr ebber lawyer said unawar fraud argu auditor alert problem ms cooper also said sharehold meet mr ebber often pass technic question compani financ chief give brief answer prosecut star wit former worldcom financi chief scott sullivan said mr ebber order account adjust firm tell hit book howev ms cooper said mr sullivan mention anyth uncomfort worldcom account 2001 audit committe meet mr ebber could face jail sentenc 85 year convict charg face worldcom emerg bankruptci protect 2004 known mci last week mci agre buyout verizon commun deal valu 6.75bn', 'german busi confid slide german busi confid fell februari knock hope speedi recoveri europ largest economi munich-bas research institut ifo said confid index fell 95.5 februari 97.5 januari first declin three month studi found outlook manufactur retail sector worsen observ hope confid busi sector would signal econom activ pick surpris ifo index taken knock said dz bank economist bernd weidenstein main reason probabl domest economi still weak particularli retail trade economi labour minist wolfgang clement call dip februari ifo confid figur mild declin said despit retreat index remain rel high level expect modest econom upsw continu germani economi grew 1.6 last year shrink 2003. howev economi contract 0.2 last three month 2004 mainli due reluct consum spend latest indic growth still prove elus ifo presid hans-wern sinn said improv german domest demand sluggish export kept thing go first half 2004 demand export hit valu euro hit record level make german product less competit oversea top unemploy rate stuck close 10 manufactur firm includ daimlerchrysl siemen volkswagen negoti union cost cut measur analyst said ifo figur germani continu problem may delay interest rate rise european central bank eurozon interest rate 2 comment senior offici recent focus threat inflat prompt fear interest rate may rise', 'bbc poll indic econom gloom citizen major nation survey bbc world servic poll believ world economi worsen respond also said nation economi get wors ask famili financi outlook major 14 countri said posit futur almost 23 000 peopl 22 countri question poll mostli conduct asian tsunami disast poll found major plural peopl 13 countri believ economi go downhil compar respond nine countri believ improv survey three countri split percentag term averag 44 respond countri said world economi get wors compar 34 said improv similarli 48 pessimist nation economi 41 optimist 47 saw famili econom condit improv 36 said get wors poll 22 953 peopl conduct intern poll firm globescan togeth program intern polici attitud pipa univers maryland world economi pick difficult time year ago peopl seem fulli absorb develop though person experienc effect said pipa director steven kull peopl around world say ok world may percept war terror religi polit divis make world wors place even though far reflect global econom perform say bbc elizabeth blunt countri peopl optimist world famili two fast-grow develop economi china india follow indonesia china seen two decad blister econom growth led wealth creation huge scale say bbc louisa lim beij result also may reflect untrammel confid peopl subject endless govern propaganda countri rosi econom futur correspond say south korea pessimist respond itali mexico also quit gloomi bbc david willey rome say one reason result changeov lira euro 2001 wide view biggest reason wage salari worth less use philippin among upbeat countri prospect respond famili one pessimist world economi pipa conduct poll 15 novemb 2004 3 januari 2005 across 22 countri face-to-fac telephon interview interview took place 15 novemb 2004 5 januari 2005. margin error 2.5 4 point depend countri eight countri sampl limit major metropolitan area', 'lifestyl govern mobil choic faster better funkier hardwar alon go help phone firm sell handset research suggest instead phone firm keen get custom push technolog sake consum far interest handset fit lifestyl screen size onboard memori chip insid show in-depth studi handset maker ericsson histor industri much focu use technolog said dr michael bjorn senior advisor mobil media ericsson consum enterpris lab stop say technolog chang live said tri speak consum languag help see fit told bbc news websit studi ericsson interview 14 000 mobil phone owner way use phone peopl habit remain said dr bjorn move activ mobil phone much conveni way one good exampl diary-writ among younger peopl said diari alway popular mobil phone -- especi one equip camera -- help keep differ form youngster use text messag also reflect desir chat keep contact friend let slightli chang way dr bjorn said although consum alway use phone sheer varieti new handset technolog make possibl gradual drive new habit lifestyl ericsson research shown consum divid differ tribe use phone differ way dr bjorn said group dub pioneer materialist interest tri new thing behind start mani trend phone use instanc said older peopl use sm much five year ago younger user often children age mobil owner encourag older peopl tri could keep touch anoth factor govern speed chang mobil phone use simpl speed new devic bought pioneer materialist 25 peopl handset new innov camera consum stop worri send pictur messag person end abl see signific number user pass use new innov tend take dr bjorn said earli report camera phone usag japan seem impli innov go flop howev said 45 japanes peopl ericsson question use camera phone least month 2003 figur 29 similarli across europ number peopl take snap camera start rise 2003 4 peopl uk took phonecam snap least month figur 14 similar rise seen mani european nation dr bjorn said peopl also use camera phone differ way film even digit camera usag pattern digit camera almost exactli replac usag pattern analogu camera said digit camera tend use signific event wed holiday birthday contrast said camera phone use much captur moment woven everyday life', 'enron boss 168m payout eighteen former enron director agre 168m £89m settlement deal sharehold lawsuit collaps energi firm lead plaintiff univers california announc news ad 10 former director pay 13m pocket settlement put court approv next week enron went bankrupt 2001 emerg hidden hundr million dollar debt collaps firm seventh biggest public us compani revenu demis sent shockwav financi market dent investor confid corpor america settlement signific hold outsid director least partial person respons william lerach lawyer lead class action suit enron said hope help send messag corpor boardroom import director perform legal duti ad term 168m settlement 155m cover insur none 18 former director admit wrongdo deal fourth major settlement negoti lawyer file class action behalf enron sharehold almost three year ago far includ latest deal 500m £378.8m retriev investor howev latest deal includ former enron chief execut ken lay jeff skill men face crimin charg alleg misconduct run firm collaps neither cover andrew fastow plead guilti take part illeg conspiraci chief financi offic group enron sharehold still seek damag long list big name defend includ financi institut jp morgan chase citigroup merril lynch credit suiss first boston univers california said trial case schedul begin octob 2006. join lawsuit decemb 2001alleg massiv insid trade fraud claim lost 145m invest compani']\n"
     ]
    }
   ],
   "source": [
    "from nltk.stem import PorterStemmer\n",
    "ps = PorterStemmer()\n",
    "stem_articles=[]\n",
    "for article in filtered_articles:\n",
    "    temp=[]\n",
    "    for w in article:\n",
    "        temp.append(ps.stem(w))\n",
    "        \n",
    "    stem_articles.append(\" \".join(temp))  \n",
    "    \n",
    "print(\"stem_articles:\")\n",
    "print(stem_articles[0:5])"
   ]
  },
  {
   "cell_type": "code",
   "execution_count": 82,
   "id": "6e806334",
   "metadata": {},
   "outputs": [
    {
     "data": {
      "text/html": [
       "<div>\n",
       "<style scoped>\n",
       "    .dataframe tbody tr th:only-of-type {\n",
       "        vertical-align: middle;\n",
       "    }\n",
       "\n",
       "    .dataframe tbody tr th {\n",
       "        vertical-align: top;\n",
       "    }\n",
       "\n",
       "    .dataframe thead th {\n",
       "        text-align: right;\n",
       "    }\n",
       "</style>\n",
       "<table border=\"1\" class=\"dataframe\">\n",
       "  <thead>\n",
       "    <tr style=\"text-align: right;\">\n",
       "      <th></th>\n",
       "      <th>ArticleId</th>\n",
       "      <th>Text</th>\n",
       "      <th>Category</th>\n",
       "    </tr>\n",
       "  </thead>\n",
       "  <tbody>\n",
       "    <tr>\n",
       "      <th>0</th>\n",
       "      <td>1833</td>\n",
       "      <td>worldcom ex-boss launches defence lawyers defe...</td>\n",
       "      <td>business</td>\n",
       "    </tr>\n",
       "    <tr>\n",
       "      <th>1</th>\n",
       "      <td>154</td>\n",
       "      <td>german business confidence slides german busin...</td>\n",
       "      <td>business</td>\n",
       "    </tr>\n",
       "    <tr>\n",
       "      <th>2</th>\n",
       "      <td>1101</td>\n",
       "      <td>bbc poll indicates economic gloom citizens in ...</td>\n",
       "      <td>business</td>\n",
       "    </tr>\n",
       "    <tr>\n",
       "      <th>3</th>\n",
       "      <td>1976</td>\n",
       "      <td>lifestyle  governs mobile choice  faster  bett...</td>\n",
       "      <td>tech</td>\n",
       "    </tr>\n",
       "    <tr>\n",
       "      <th>4</th>\n",
       "      <td>917</td>\n",
       "      <td>enron bosses in $168m payout eighteen former e...</td>\n",
       "      <td>business</td>\n",
       "    </tr>\n",
       "  </tbody>\n",
       "</table>\n",
       "</div>"
      ],
      "text/plain": [
       "   ArticleId                                               Text  Category\n",
       "0       1833  worldcom ex-boss launches defence lawyers defe...  business\n",
       "1        154  german business confidence slides german busin...  business\n",
       "2       1101  bbc poll indicates economic gloom citizens in ...  business\n",
       "3       1976  lifestyle  governs mobile choice  faster  bett...      tech\n",
       "4        917  enron bosses in $168m payout eighteen former e...  business"
      ]
     },
     "execution_count": 82,
     "metadata": {},
     "output_type": "execute_result"
    }
   ],
   "source": [
    "data.head()"
   ]
  },
  {
   "cell_type": "code",
   "execution_count": 84,
   "id": "5ce3c951",
   "metadata": {},
   "outputs": [
    {
     "data": {
      "text/html": [
       "<div>\n",
       "<style scoped>\n",
       "    .dataframe tbody tr th:only-of-type {\n",
       "        vertical-align: middle;\n",
       "    }\n",
       "\n",
       "    .dataframe tbody tr th {\n",
       "        vertical-align: top;\n",
       "    }\n",
       "\n",
       "    .dataframe thead th {\n",
       "        text-align: right;\n",
       "    }\n",
       "</style>\n",
       "<table border=\"1\" class=\"dataframe\">\n",
       "  <thead>\n",
       "    <tr style=\"text-align: right;\">\n",
       "      <th></th>\n",
       "      <th>Text</th>\n",
       "      <th>ArticleId</th>\n",
       "      <th>Category</th>\n",
       "    </tr>\n",
       "  </thead>\n",
       "  <tbody>\n",
       "    <tr>\n",
       "      <th>0</th>\n",
       "      <td>worldcom ex-boss launch defenc lawyer defend f...</td>\n",
       "      <td>1833</td>\n",
       "      <td>business</td>\n",
       "    </tr>\n",
       "    <tr>\n",
       "      <th>1</th>\n",
       "      <td>german busi confid slide german busi confid fe...</td>\n",
       "      <td>154</td>\n",
       "      <td>business</td>\n",
       "    </tr>\n",
       "    <tr>\n",
       "      <th>2</th>\n",
       "      <td>bbc poll indic econom gloom citizen major nati...</td>\n",
       "      <td>1101</td>\n",
       "      <td>business</td>\n",
       "    </tr>\n",
       "    <tr>\n",
       "      <th>3</th>\n",
       "      <td>lifestyl govern mobil choic faster better funk...</td>\n",
       "      <td>1976</td>\n",
       "      <td>tech</td>\n",
       "    </tr>\n",
       "    <tr>\n",
       "      <th>4</th>\n",
       "      <td>enron boss 168m payout eighteen former enron d...</td>\n",
       "      <td>917</td>\n",
       "      <td>business</td>\n",
       "    </tr>\n",
       "  </tbody>\n",
       "</table>\n",
       "</div>"
      ],
      "text/plain": [
       "                                                Text  ArticleId  Category\n",
       "0  worldcom ex-boss launch defenc lawyer defend f...       1833  business\n",
       "1  german busi confid slide german busi confid fe...        154  business\n",
       "2  bbc poll indic econom gloom citizen major nati...       1101  business\n",
       "3  lifestyl govern mobil choic faster better funk...       1976      tech\n",
       "4  enron boss 168m payout eighteen former enron d...        917  business"
      ]
     },
     "execution_count": 84,
     "metadata": {},
     "output_type": "execute_result"
    }
   ],
   "source": [
    "data=data.drop(['Text'],axis=1)\n",
    "data.insert(0,\"Text\",stem_articles,True)\n",
    "data.head()"
   ]
  },
  {
   "cell_type": "code",
   "execution_count": 86,
   "id": "b3392f90",
   "metadata": {},
   "outputs": [
    {
     "data": {
      "text/html": [
       "<div>\n",
       "<style scoped>\n",
       "    .dataframe tbody tr th:only-of-type {\n",
       "        vertical-align: middle;\n",
       "    }\n",
       "\n",
       "    .dataframe tbody tr th {\n",
       "        vertical-align: top;\n",
       "    }\n",
       "\n",
       "    .dataframe thead th {\n",
       "        text-align: right;\n",
       "    }\n",
       "</style>\n",
       "<table border=\"1\" class=\"dataframe\">\n",
       "  <thead>\n",
       "    <tr style=\"text-align: right;\">\n",
       "      <th></th>\n",
       "      <th>Text</th>\n",
       "      <th>ArticleId</th>\n",
       "      <th>EncodedCategory</th>\n",
       "      <th>Category</th>\n",
       "    </tr>\n",
       "  </thead>\n",
       "  <tbody>\n",
       "    <tr>\n",
       "      <th>0</th>\n",
       "      <td>worldcom ex-boss launch defenc lawyer defend f...</td>\n",
       "      <td>1833</td>\n",
       "      <td>0</td>\n",
       "      <td>business</td>\n",
       "    </tr>\n",
       "    <tr>\n",
       "      <th>1</th>\n",
       "      <td>german busi confid slide german busi confid fe...</td>\n",
       "      <td>154</td>\n",
       "      <td>0</td>\n",
       "      <td>business</td>\n",
       "    </tr>\n",
       "    <tr>\n",
       "      <th>2</th>\n",
       "      <td>bbc poll indic econom gloom citizen major nati...</td>\n",
       "      <td>1101</td>\n",
       "      <td>0</td>\n",
       "      <td>business</td>\n",
       "    </tr>\n",
       "    <tr>\n",
       "      <th>3</th>\n",
       "      <td>lifestyl govern mobil choic faster better funk...</td>\n",
       "      <td>1976</td>\n",
       "      <td>4</td>\n",
       "      <td>tech</td>\n",
       "    </tr>\n",
       "    <tr>\n",
       "      <th>4</th>\n",
       "      <td>enron boss 168m payout eighteen former enron d...</td>\n",
       "      <td>917</td>\n",
       "      <td>0</td>\n",
       "      <td>business</td>\n",
       "    </tr>\n",
       "  </tbody>\n",
       "</table>\n",
       "</div>"
      ],
      "text/plain": [
       "                                                Text  ArticleId  \\\n",
       "0  worldcom ex-boss launch defenc lawyer defend f...       1833   \n",
       "1  german busi confid slide german busi confid fe...        154   \n",
       "2  bbc poll indic econom gloom citizen major nati...       1101   \n",
       "3  lifestyl govern mobil choic faster better funk...       1976   \n",
       "4  enron boss 168m payout eighteen former enron d...        917   \n",
       "\n",
       "   EncodedCategory  Category  \n",
       "0                0  business  \n",
       "1                0  business  \n",
       "2                0  business  \n",
       "3                4      tech  \n",
       "4                0  business  "
      ]
     },
     "execution_count": 86,
     "metadata": {},
     "output_type": "execute_result"
    }
   ],
   "source": [
    "from sklearn.preprocessing import LabelEncoder\n",
    "le= LabelEncoder()\n",
    "data.insert(2,\"EncodedCategory\",le.fit_transform(data['Category']),True)\n",
    "\n",
    "data.head()"
   ]
  },
  {
   "cell_type": "markdown",
   "id": "3b2b95ef",
   "metadata": {},
   "source": [
    "# NaiveBayes classification"
   ]
  },
  {
   "cell_type": "code",
   "execution_count": 90,
   "id": "3698e8e9",
   "metadata": {},
   "outputs": [],
   "source": [
    "X=data['Text']\n",
    "y=data['EncodedCategory']"
   ]
  },
  {
   "cell_type": "code",
   "execution_count": 91,
   "id": "375b405c",
   "metadata": {},
   "outputs": [],
   "source": [
    "from sklearn.model_selection import train_test_split\n",
    "#testing_set=25% ,training=75% \n",
    "X_train, X_test, y_train, y_test = train_test_split(X,y,test_size=0.25,  random_state=51)"
   ]
  },
  {
   "cell_type": "code",
   "execution_count": 93,
   "id": "fa3721de",
   "metadata": {},
   "outputs": [],
   "source": [
    "#Feature Selection tf-idf approach\n",
    "\n",
    "from sklearn.feature_extraction.text import TfidfVectorizer\n",
    "\n",
    "tfidf_vect=TfidfVectorizer()\n",
    "\n",
    "tfidf_XTrain=tfidf_vect.fit_transform(X_train.values)\n",
    "tfidf_XTest=tfidf_vect.transform(X_test.values)\n"
   ]
  },
  {
   "cell_type": "code",
   "execution_count": 115,
   "id": "24277f14",
   "metadata": {},
   "outputs": [
    {
     "data": {
      "text/html": [
       "<style>#sk-container-id-2 {color: black;background-color: white;}#sk-container-id-2 pre{padding: 0;}#sk-container-id-2 div.sk-toggleable {background-color: white;}#sk-container-id-2 label.sk-toggleable__label {cursor: pointer;display: block;width: 100%;margin-bottom: 0;padding: 0.3em;box-sizing: border-box;text-align: center;}#sk-container-id-2 label.sk-toggleable__label-arrow:before {content: \"▸\";float: left;margin-right: 0.25em;color: #696969;}#sk-container-id-2 label.sk-toggleable__label-arrow:hover:before {color: black;}#sk-container-id-2 div.sk-estimator:hover label.sk-toggleable__label-arrow:before {color: black;}#sk-container-id-2 div.sk-toggleable__content {max-height: 0;max-width: 0;overflow: hidden;text-align: left;background-color: #f0f8ff;}#sk-container-id-2 div.sk-toggleable__content pre {margin: 0.2em;color: black;border-radius: 0.25em;background-color: #f0f8ff;}#sk-container-id-2 input.sk-toggleable__control:checked~div.sk-toggleable__content {max-height: 200px;max-width: 100%;overflow: auto;}#sk-container-id-2 input.sk-toggleable__control:checked~label.sk-toggleable__label-arrow:before {content: \"▾\";}#sk-container-id-2 div.sk-estimator input.sk-toggleable__control:checked~label.sk-toggleable__label {background-color: #d4ebff;}#sk-container-id-2 div.sk-label input.sk-toggleable__control:checked~label.sk-toggleable__label {background-color: #d4ebff;}#sk-container-id-2 input.sk-hidden--visually {border: 0;clip: rect(1px 1px 1px 1px);clip: rect(1px, 1px, 1px, 1px);height: 1px;margin: -1px;overflow: hidden;padding: 0;position: absolute;width: 1px;}#sk-container-id-2 div.sk-estimator {font-family: monospace;background-color: #f0f8ff;border: 1px dotted black;border-radius: 0.25em;box-sizing: border-box;margin-bottom: 0.5em;}#sk-container-id-2 div.sk-estimator:hover {background-color: #d4ebff;}#sk-container-id-2 div.sk-parallel-item::after {content: \"\";width: 100%;border-bottom: 1px solid gray;flex-grow: 1;}#sk-container-id-2 div.sk-label:hover label.sk-toggleable__label {background-color: #d4ebff;}#sk-container-id-2 div.sk-serial::before {content: \"\";position: absolute;border-left: 1px solid gray;box-sizing: border-box;top: 0;bottom: 0;left: 50%;z-index: 0;}#sk-container-id-2 div.sk-serial {display: flex;flex-direction: column;align-items: center;background-color: white;padding-right: 0.2em;padding-left: 0.2em;position: relative;}#sk-container-id-2 div.sk-item {position: relative;z-index: 1;}#sk-container-id-2 div.sk-parallel {display: flex;align-items: stretch;justify-content: center;background-color: white;position: relative;}#sk-container-id-2 div.sk-item::before, #sk-container-id-2 div.sk-parallel-item::before {content: \"\";position: absolute;border-left: 1px solid gray;box-sizing: border-box;top: 0;bottom: 0;left: 50%;z-index: -1;}#sk-container-id-2 div.sk-parallel-item {display: flex;flex-direction: column;z-index: 1;position: relative;background-color: white;}#sk-container-id-2 div.sk-parallel-item:first-child::after {align-self: flex-end;width: 50%;}#sk-container-id-2 div.sk-parallel-item:last-child::after {align-self: flex-start;width: 50%;}#sk-container-id-2 div.sk-parallel-item:only-child::after {width: 0;}#sk-container-id-2 div.sk-dashed-wrapped {border: 1px dashed gray;margin: 0 0.4em 0.5em 0.4em;box-sizing: border-box;padding-bottom: 0.4em;background-color: white;}#sk-container-id-2 div.sk-label label {font-family: monospace;font-weight: bold;display: inline-block;line-height: 1.2em;}#sk-container-id-2 div.sk-label-container {text-align: center;}#sk-container-id-2 div.sk-container {/* jupyter's `normalize.less` sets `[hidden] { display: none; }` but bootstrap.min.css set `[hidden] { display: none !important; }` so we also need the `!important` here to be able to override the default hidden behavior on the sphinx rendered scikit-learn.org. See: https://github.com/scikit-learn/scikit-learn/issues/21755 */display: inline-block !important;position: relative;}#sk-container-id-2 div.sk-text-repr-fallback {display: none;}</style><div id=\"sk-container-id-2\" class=\"sk-top-container\"><div class=\"sk-text-repr-fallback\"><pre>MultinomialNB()</pre><b>In a Jupyter environment, please rerun this cell to show the HTML representation or trust the notebook. <br />On GitHub, the HTML representation is unable to render, please try loading this page with nbviewer.org.</b></div><div class=\"sk-container\" hidden><div class=\"sk-item\"><div class=\"sk-estimator sk-toggleable\"><input class=\"sk-toggleable__control sk-hidden--visually\" id=\"sk-estimator-id-2\" type=\"checkbox\" checked><label for=\"sk-estimator-id-2\" class=\"sk-toggleable__label sk-toggleable__label-arrow\">MultinomialNB</label><div class=\"sk-toggleable__content\"><pre>MultinomialNB()</pre></div></div></div></div></div>"
      ],
      "text/plain": [
       "MultinomialNB()"
      ]
     },
     "execution_count": 115,
     "metadata": {},
     "output_type": "execute_result"
    }
   ],
   "source": [
    "from sklearn.naive_bayes import MultinomialNB\n",
    "\n",
    "model=MultinomialNB()\n",
    "\n",
    "model.fit(tfidf_XTrain,y_train)\n"
   ]
  },
  {
   "cell_type": "code",
   "execution_count": 116,
   "id": "ccd88429",
   "metadata": {},
   "outputs": [],
   "source": [
    "#prediction\n",
    "pred= model.predict(tfidf_XTest)"
   ]
  },
  {
   "cell_type": "code",
   "execution_count": 117,
   "id": "cf5731ee",
   "metadata": {},
   "outputs": [
    {
     "name": "stdout",
     "output_type": "stream",
     "text": [
      "Accuracy: 96.25 %\n"
     ]
    }
   ],
   "source": [
    "from sklearn.metrics import accuracy_score\n",
    "a_score =accuracy_score(y_test,pred)\n",
    "print(\"Accuracy: \"+ str(\"{:.2f}\".format(a_score*100)),'%')"
   ]
  },
  {
   "cell_type": "code",
   "execution_count": 118,
   "id": "fc34469d",
   "metadata": {},
   "outputs": [],
   "source": [
    "import pickle\n",
    "with open('model_pickle','wb') as f:\n",
    "    pickle.dump(model,f)"
   ]
  },
  {
   "cell_type": "code",
   "execution_count": 119,
   "id": "66f74d49",
   "metadata": {},
   "outputs": [],
   "source": [
    "import pickle\n",
    "with open('model_pickle','rb') as f:\n",
    "    mod=pickle.load(f)\n",
    "    "
   ]
  },
  {
   "cell_type": "code",
   "execution_count": 123,
   "id": "be1dad7a",
   "metadata": {},
   "outputs": [
    {
     "name": "stdout",
     "output_type": "stream",
     "text": [
      "Enter a news article: sports\n"
     ]
    },
    {
     "ename": "AttributeError",
     "evalue": "'str' object has no attribute 'values'",
     "output_type": "error",
     "traceback": [
      "\u001b[1;31m---------------------------------------------------------------------------\u001b[0m",
      "\u001b[1;31mAttributeError\u001b[0m                            Traceback (most recent call last)",
      "Cell \u001b[1;32mIn[123], line 3\u001b[0m\n\u001b[0;32m      1\u001b[0m \u001b[38;5;66;03m# User input\u001b[39;00m\n\u001b[0;32m      2\u001b[0m user_input \u001b[38;5;241m=\u001b[39m \u001b[38;5;28minput\u001b[39m(\u001b[38;5;124m\"\u001b[39m\u001b[38;5;124mEnter a news article: \u001b[39m\u001b[38;5;124m\"\u001b[39m)\n\u001b[1;32m----> 3\u001b[0m result\u001b[38;5;241m=\u001b[39m tfidf_vect\u001b[38;5;241m.\u001b[39mtransform(\u001b[43muser_input\u001b[49m\u001b[38;5;241;43m.\u001b[39;49m\u001b[43mvalues\u001b[49m)\n\u001b[0;32m      4\u001b[0m \u001b[38;5;66;03m# Predict the category\u001b[39;00m\n\u001b[0;32m      5\u001b[0m predicted_category \u001b[38;5;241m=\u001b[39m mod\u001b[38;5;241m.\u001b[39mpredict(result)\n",
      "\u001b[1;31mAttributeError\u001b[0m: 'str' object has no attribute 'values'"
     ]
    }
   ],
   "source": [
    "\n",
    "# User input\n",
    "user_input = input(\"Enter a news article: \")\n",
    "result= tfidf_vect.transform(user_input.values)\n",
    "# Predict the category\n",
    "predicted_category = mod.predict(result)\n",
    "\n",
    "# Display the predicted category\n",
    "print(\"Predicted category:\", predicted_category[0])"
   ]
  },
  {
   "cell_type": "code",
   "execution_count": null,
   "id": "8625825c",
   "metadata": {},
   "outputs": [],
   "source": [
    "# Preprocess the training data\n",
    "stopwords = set(stopwords.words(\"english\"))\n",
    "vectorizer = CountVectorizer(stop_words=stopwords)\n",
    "X_trainn = vectorizer.fit_transform(X_train.values)\n",
    "y_train = [article[0] for article in articles]\n",
    "\n",
    "# Train the model\n",
    "model = MultinomialNB()\n",
    "model.fit(X_train, y_train)\n",
    "\n",
    "# User input\n",
    "user_input = input(\"Enter a news article: \")\n",
    "\n",
    "# Preprocess the user input\n",
    "X_test = vectorizer.transform([user_input])\n",
    "\n",
    "# Predict the category\n",
    "predicted_category = model.predict(X_test)\n",
    "\n",
    "# Display the predicted category\n",
    "print(\"Predicted category:\", predicted_category[0])"
   ]
  }
 ],
 "metadata": {
  "kernelspec": {
   "display_name": "Python 3 (ipykernel)",
   "language": "python",
   "name": "python3"
  },
  "language_info": {
   "codemirror_mode": {
    "name": "ipython",
    "version": 3
   },
   "file_extension": ".py",
   "mimetype": "text/x-python",
   "name": "python",
   "nbconvert_exporter": "python",
   "pygments_lexer": "ipython3",
   "version": "3.10.9"
  }
 },
 "nbformat": 4,
 "nbformat_minor": 5
}
